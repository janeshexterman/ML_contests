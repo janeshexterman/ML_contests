{
 "cells": [
  {
   "cell_type": "code",
   "execution_count": null,
   "metadata": {},
   "outputs": [],
   "source": [
    "import pandas as pd\n",
    "import numpy as np\n",
    "from itertools import product\n",
    "from tqdm import tqdm\n",
    "\n",
    "from imblearn import over_sampling\n",
    "\n",
    "from sklearn.model_selection import StratifiedKFold\n",
    "from sklearn.model_selection import cross_val_score\n",
    "from sklearn.model_selection import train_test_split\n",
    "from sklearn.model_selection import GridSearchCV\n",
    "\n",
    "from sklearn.metrics import f1_score\n",
    "\n",
    "from sklearn.ensemble import RandomForestClassifier\n",
    "\n",
    "import matplotlib.pyplot as plt"
   ]
  },
  {
   "cell_type": "code",
   "execution_count": null,
   "metadata": {},
   "outputs": [],
   "source": [
    "train = pd.read_csv(\"train_with_features.csv\")\n",
    "test = pd.read_csv(\"test_with_features.csv\")"
   ]
  },
  {
   "cell_type": "markdown",
   "metadata": {},
   "source": [
    "## ONLY MATCHES"
   ]
  },
  {
   "cell_type": "code",
   "execution_count": null,
   "metadata": {},
   "outputs": [],
   "source": [
    "f1_score(train['is_duplicate'], train['label'])"
   ]
  },
  {
   "cell_type": "code",
   "execution_count": null,
   "metadata": {},
   "outputs": [],
   "source": [
    "sample_sub = pd.read_csv(\"submissions/sample_submission.csv\", index_col=\"pair_id\")\n",
    "print(len(sample_sub.is_duplicate))\n",
    "\n",
    "sample_sub[\"is_duplicate\"] = test['label']\n",
    "print(sample_sub.is_duplicate.value_counts(dropna=False))\n",
    "sample_sub[\"is_duplicate\"] = sample_sub[\"is_duplicate\"].fillna(0)\n",
    "print(len(sample_sub.is_duplicate))\n",
    "\n",
    "sample_sub.to_csv(\"submissions/only_matches.csv\")"
   ]
  },
  {
   "cell_type": "markdown",
   "metadata": {},
   "source": [
    "## MODELS"
   ]
  },
  {
   "cell_type": "code",
   "execution_count": null,
   "metadata": {},
   "outputs": [],
   "source": [
    "# random state\n",
    "RS = 42\n",
    "# трешхолд на вероятности\n",
    "THR = 0.3\n",
    "# стратегия кросс-валидации\n",
    "NFOLDS = 3\n",
    "SKF = StratifiedKFold(n_splits=NFOLDS, shuffle=True, random_state=RS)"
   ]
  },
  {
   "cell_type": "code",
   "execution_count": null,
   "metadata": {},
   "outputs": [],
   "source": [
    "# признаки, на которых обучаемся\n",
    "FTS = ['label',\n",
    "       'hamming',\n",
    "       'levenshtein',\n",
    "       'damerau_levenshtein',\n",
    "       'jaro_winkler',\n",
    "       'strcmp95',\n",
    "       'lcsseq',\n",
    "       'lcsstr',\n",
    "       'gotoh',\n",
    "       'smith_waterman',\n",
    "       'ratcliff_obershelp',\n",
    "       'cosine',\n",
    "       'jaccard',\n",
    "       'ratio',\n",
    "       'partial_ratio',\n",
    "       'token_sort_ratio',\n",
    "       'token_set_ratio'\n",
    "      ]"
   ]
  },
  {
   "cell_type": "code",
   "execution_count": null,
   "metadata": {},
   "outputs": [],
   "source": [
    "X = train.drop(['is_duplicate', 'name_1', 'name_2', 'org_name_1', 'org_name_2'], axis=1)\n",
    "y = train['is_duplicate']\n",
    "X_train, X_valid, y_train, y_valid = train_test_split(X, y, test_size=0.25, stratify=y,\n",
    "                                                      random_state=RS, shuffle=True)\n",
    "\n",
    "X_test = test.drop(['name_1', 'name_2', 'org_name_1', 'org_name_2'], axis=1)"
   ]
  },
  {
   "cell_type": "code",
   "execution_count": null,
   "metadata": {},
   "outputs": [],
   "source": [
    "f1_score(X_valid['label'], y_valid)"
   ]
  },
  {
   "cell_type": "markdown",
   "metadata": {},
   "source": [
    "## Random Forest Classifier"
   ]
  },
  {
   "cell_type": "markdown",
   "metadata": {},
   "source": [
    "Decision tree algorithms are efficient in eliminating columns that don’t add value in predicting the output. In some cases, we are even able to see how a prediction was derived by backtracking the tree. However, this algorithm doesn’t perform individually when the trees are huge and hard to interpret. Such models are often referred to as weak models. The model performance is improvised by taking an average of several such decision trees derived from the subsets of the training data. This approach is called the random forest classification."
   ]
  },
  {
   "cell_type": "markdown",
   "metadata": {},
   "source": [
    "### Baseline"
   ]
  },
  {
   "cell_type": "code",
   "execution_count": null,
   "metadata": {},
   "outputs": [],
   "source": [
    "default_params = {\n",
    "    'n_estimators':100, # to tune\n",
    "    'max_depth':None, # to tune\n",
    "    'criterion':'gini',\n",
    "    'bootstrap':True,\n",
    "    'random_state': RS,\n",
    "    'class_weight':'balanced'\n",
    "}"
   ]
  },
  {
   "cell_type": "code",
   "execution_count": null,
   "metadata": {},
   "outputs": [],
   "source": [
    "rf_clf_default = RandomForestClassifier(**default_params, n_jobs=-1)"
   ]
  },
  {
   "cell_type": "code",
   "execution_count": null,
   "metadata": {},
   "outputs": [],
   "source": [
    "# оценка по кросс-валидации со стандартным трешхолдом\n",
    "rf_default_res = cross_val_score(rf_clf_default, X_train[FTS], y_train, cv=SKF, scoring='f1').mean()\n",
    "rf_default_res"
   ]
  },
  {
   "cell_type": "code",
   "execution_count": null,
   "metadata": {},
   "outputs": [],
   "source": [
    "# оценка на отложенной выборке\n",
    "rf_clf_default.fit(X_train[FTS], y_train)\n",
    "f1_score(rf_clf_default.predict(X_valid[FTS]), y_valid)"
   ]
  },
  {
   "cell_type": "raw",
   "metadata": {},
   "source": [
    "rf_clf_default = RandomForestClassifier(**default_params, n_jobs=-1)\n",
    "rf_clf_default.fit(X[FTS], y)\n",
    "test_predictions = rf_clf_default.predict(X_test[FTS])\n",
    "\n",
    "sample_sub = pd.read_csv(\"submissions/sample_submission.csv\", index_col=\"pair_id\")\n",
    "print(len(sample_sub.is_duplicate))\n",
    "\n",
    "sample_sub[\"is_duplicate\"] = test_predictions\n",
    "print(sample_sub.is_duplicate.value_counts(dropna=False))\n",
    "sample_sub[\"is_duplicate\"] = sample_sub[\"is_duplicate\"].fillna(0)\n",
    "print(len(sample_sub.is_duplicate))\n",
    "\n",
    "sample_sub.to_csv(\"submissions/rf_baseline_0_5.csv\")"
   ]
  },
  {
   "cell_type": "markdown",
   "metadata": {},
   "source": [
    "На сайте соревнования скор = `0.5464`"
   ]
  },
  {
   "cell_type": "markdown",
   "metadata": {},
   "source": [
    "### Feature Selection"
   ]
  },
  {
   "cell_type": "markdown",
   "metadata": {},
   "source": [
    "Попробуем отобрать признаки:"
   ]
  },
  {
   "cell_type": "code",
   "execution_count": null,
   "metadata": {},
   "outputs": [],
   "source": [
    "from sklearn.feature_selection import RFECV"
   ]
  },
  {
   "cell_type": "code",
   "execution_count": null,
   "metadata": {},
   "outputs": [],
   "source": [
    "print(FTS)"
   ]
  },
  {
   "cell_type": "code",
   "execution_count": null,
   "metadata": {},
   "outputs": [],
   "source": [
    "%%time\n",
    "rf_clf_default = RandomForestClassifier(**default_params, n_jobs=-1)\n",
    "selector = RFECV(rf_clf_default, step=1, cv=SKF, scoring='f1', n_jobs=-1)\n",
    "selector = selector.fit(X_train[FTS], y_train)"
   ]
  },
  {
   "cell_type": "code",
   "execution_count": null,
   "metadata": {},
   "outputs": [],
   "source": [
    "print(\"Optimal number of features : %d\" % selector.n_features_)\n",
    "\n",
    "# Plot number of features VS. cross-validation scores\n",
    "plt.figure()\n",
    "plt.xlabel(\"Number of features selected\")\n",
    "plt.ylabel(\"Cross validation score (f1_score)\")\n",
    "plt.plot(range(1, len(selector.grid_scores_) + 1), selector.grid_scores_)\n",
    "plt.show()"
   ]
  },
  {
   "cell_type": "code",
   "execution_count": null,
   "metadata": {},
   "outputs": [],
   "source": [
    "best_fts = np.array(FTS)[selector.get_support()].tolist()\n",
    "len(best_fts)"
   ]
  },
  {
   "cell_type": "code",
   "execution_count": null,
   "metadata": {},
   "outputs": [],
   "source": [
    "# оценка по кросс-валидации со стандартным трешхолдом\n",
    "rf_clf_default = RandomForestClassifier(**default_params, n_jobs=-1)\n",
    "rf_default_res = cross_val_score(rf_clf_default, X_train[best_fts], y_train, cv=SKF, scoring='f1').mean()\n",
    "rf_default_res"
   ]
  },
  {
   "cell_type": "code",
   "execution_count": null,
   "metadata": {},
   "outputs": [],
   "source": [
    "# оценка на отложенной выборке\n",
    "rf_clf_default = RandomForestClassifier(**default_params, n_jobs=-1)\n",
    "rf_clf_default.fit(X_train[best_fts], y_train)\n",
    "f1_score(rf_clf_default.predict(X_valid[best_fts]), y_valid)"
   ]
  },
  {
   "cell_type": "code",
   "execution_count": null,
   "metadata": {},
   "outputs": [],
   "source": [
    "rf_clf_default = RandomForestClassifier(**default_params, n_jobs=-1)\n",
    "rf_clf_default.fit(X[best_fts], y)\n",
    "test_predictions = rf_clf_default.predict(X_test[best_fts])\n",
    "\n",
    "sample_sub = pd.read_csv(\"submissions/sample_submission.csv\", index_col=\"pair_id\")\n",
    "print(len(sample_sub.is_duplicate))\n",
    "\n",
    "sample_sub[\"is_duplicate\"] = test_predictions\n",
    "print(sample_sub.is_duplicate.value_counts(dropna=False))\n",
    "sample_sub[\"is_duplicate\"] = sample_sub[\"is_duplicate\"].fillna(0)\n",
    "print(len(sample_sub.is_duplicate))\n",
    "\n",
    "sample_sub.to_csv(\"submissions/rf_best_features.csv\")"
   ]
  },
  {
   "cell_type": "markdown",
   "metadata": {},
   "source": [
    "## Настройка гиперпараметров\n",
    "В том числе трешхолда"
   ]
  },
  {
   "cell_type": "code",
   "execution_count": null,
   "metadata": {},
   "outputs": [],
   "source": [
    "def get_f1_cv_score(model, X_train, y_train, FTS, treshold=THR, cv_split=SKF):\n",
    "    f1_cv_folds = []\n",
    "\n",
    "    for tridx, cvidx in list(cv_split.split(X_train[FTS], y_train)):\n",
    "        \n",
    "        model.fit(X_train.iloc[tridx][FTS].values, y_train.iloc[tridx].values)\n",
    "        # предсказания для отложенного фолда\n",
    "        cv_preds = model.predict_proba(X_train.iloc[cvidx][FTS].values)\n",
    "        #в зависимости от трешхолда определяем класс\n",
    "        cv_preds_label = (cv_preds[:, 1] > treshold).astype(np.int) \n",
    "        # считаем метрику\n",
    "        cv_real_label = y_train.iloc[cvidx].values\n",
    "        f1_cv = f1_score(cv_real_label, cv_preds_label)\n",
    "        f1_cv_folds.append(f1_cv)\n",
    "        \n",
    "    f1_cv_mean = np.mean(f1_cv_folds) # средний скор на кросс-валидации\n",
    "    \n",
    "    return f1_cv_mean"
   ]
  },
  {
   "cell_type": "code",
   "execution_count": null,
   "metadata": {},
   "outputs": [],
   "source": [
    "# сетка параметров\n",
    "n_estimators = [50,100,150, 200]\n",
    "max_depth = [12, 20]\n",
    "tresholds = np.arange(0.4,1,0.1)\n",
    "\n",
    "params = list(product(n_estimators, max_depth, tresholds))\n",
    "print(len(params))"
   ]
  },
  {
   "cell_type": "code",
   "execution_count": null,
   "metadata": {},
   "outputs": [],
   "source": [
    "%%time\n",
    "# куда сохраняем результаты\n",
    "result = []\n",
    "indexes = []\n",
    "\n",
    "for n_estimators, max_depth, treshold in tqdm(params):\n",
    "    params = {\n",
    "        'n_estimators': n_estimators,\n",
    "        'max_depth': max_depth,\n",
    "        'random_state': RS,\n",
    "        'class_weight':'balanced',\n",
    "    }\n",
    "    rf_clf = RandomForestClassifier(**params, n_jobs=-1)\n",
    "    f1_cv_mean = get_f1_cv_score(rf_clf, X_train, y_train, treshold=treshold, FTS=best_fts)\n",
    "    \n",
    "    indexes.append('_'.join([str(n_estimators), str(max_depth), str(treshold)]))\n",
    "    result.append(f1_cv_mean)"
   ]
  },
  {
   "cell_type": "code",
   "execution_count": null,
   "metadata": {},
   "outputs": [],
   "source": [
    "result_df = pd.DataFrame(result, index=indexes)\n",
    "result_df.columns = ['f1_cv_mean']\n",
    "result_df.sort_values(by='f1_cv_mean', ascending=False).head(10)"
   ]
  },
  {
   "cell_type": "code",
   "execution_count": null,
   "metadata": {},
   "outputs": [],
   "source": [
    "best_params = result_df['f1_cv_mean'].idxmax()\n",
    "best_params"
   ]
  },
  {
   "cell_type": "code",
   "execution_count": null,
   "metadata": {},
   "outputs": [],
   "source": [
    "best_thr = 0.6\n",
    "best_params = {\n",
    "    'n_estimators':200,\n",
    "    'max_depth': 20,\n",
    "    'criterion':'gini',\n",
    "    'bootstrap':True,\n",
    "    'random_state': RS,\n",
    "    'class_weight':'balanced',\n",
    "}"
   ]
  },
  {
   "cell_type": "code",
   "execution_count": null,
   "metadata": {},
   "outputs": [],
   "source": [
    "# оценка на отложенной выборке\n",
    "rf_clf = RandomForestClassifier(**best_params, n_jobs=-1)\n",
    "rf_clf.fit(X_train[best_fts], y_train)\n",
    "valid_predictions = rf_clf.predict_proba(X_valid[best_fts])\n",
    "valid_labels = (valid_predictions[:, 1] > best_thr).astype(np.int) \n",
    "f1_score(valid_labels, y_valid)"
   ]
  },
  {
   "cell_type": "code",
   "execution_count": null,
   "metadata": {},
   "outputs": [],
   "source": [
    "# submission\n",
    "rf_clf = RandomForestClassifier(**best_params, n_jobs=-1)\n",
    "rf_clf.fit(X[FTS], y)\n",
    "test_predictions = rf_clf.predict_proba(X_test[FTS])\n",
    "test_labels = (test_predictions[:, 1] > best_thr).astype(np.int) \n",
    "\n",
    "sample_sub = pd.read_csv(\"submissions/sample_submission.csv\", index_col=\"pair_id\")\n",
    "print(len(sample_sub.is_duplicate))\n",
    "\n",
    "sample_sub[\"is_duplicate\"] = test_labels\n",
    "print(sample_sub.is_duplicate.value_counts(dropna=False))\n",
    "sample_sub[\"is_duplicate\"] = sample_sub[\"is_duplicate\"].fillna(0)\n",
    "print(len(sample_sub.is_duplicate))\n",
    "\n",
    "sample_sub.to_csv(\"submissions/rf_best_params.csv\")"
   ]
  },
  {
   "cell_type": "markdown",
   "metadata": {},
   "source": [
    "Скор в лидерборде: `0.5867`"
   ]
  }
 ],
 "metadata": {
  "kernelspec": {
   "display_name": "Python 3",
   "language": "python",
   "name": "python3"
  },
  "language_info": {
   "codemirror_mode": {
    "name": "ipython",
    "version": 3
   },
   "file_extension": ".py",
   "mimetype": "text/x-python",
   "name": "python",
   "nbconvert_exporter": "python",
   "pygments_lexer": "ipython3",
   "version": "3.8.3"
  }
 },
 "nbformat": 4,
 "nbformat_minor": 4
}
